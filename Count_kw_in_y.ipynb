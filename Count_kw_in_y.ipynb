{
 "cells": [
  {
   "cell_type": "code",
   "execution_count": 11,
   "metadata": {},
   "outputs": [],
   "source": [
    "import json\n",
    "import pandas as pd\n",
    "import time\n",
    "import glob"
   ]
  },
  {
   "cell_type": "code",
   "execution_count": 12,
   "metadata": {},
   "outputs": [],
   "source": [
    "data1 = pd.read_csv('/home/labnauk/data_analysis/MAG0_1_2/full_clean_df.csv', sep=',')\n",
    "data2 = pd.read_csv('/home/labnauk/data_analysis/MAG0_3/full_clean_df.csv', sep=',')\n",
    "data3 = pd.read_csv('/home/labnauk/data_analysis/MAG0_4/full_clean_df.csv', sep=',')\n",
    "data4 = pd.read_csv('/home/labnauk/data_analysis/MAG0_5/full_clean_df.csv', sep=',')\n",
    "data5 = pd.read_csv('/home/labnauk/data_analysis/MAG1_1/full_clean_df.csv', sep=',')"
   ]
  },
  {
   "cell_type": "code",
   "execution_count": 13,
   "metadata": {},
   "outputs": [],
   "source": [
    "df1 = pd.DataFrame.from_dict(data1)\n",
    "df2 = pd.DataFrame.from_dict(data2)\n",
    "df3 = pd.DataFrame.from_dict(data3)\n",
    "df4 = pd.DataFrame.from_dict(data4)\n",
    "df5 = pd.DataFrame.from_dict(data5)"
   ]
  },
  {
   "cell_type": "code",
   "execution_count": 14,
   "metadata": {},
   "outputs": [],
   "source": [
    "df_c1 = pd.merge(df1, df2,  how='outer')\n",
    "df_c2 = pd.merge(df3, df4,  how='outer')\n",
    "df_c3 = pd.merge(df_c2, df5,  how='outer')\n",
    "df_clean = pd.merge(df_c3, df_c1,  how='outer')"
   ]
  },
  {
   "cell_type": "code",
   "execution_count": 15,
   "metadata": {
    "scrolled": true
   },
   "outputs": [
    {
     "data": {
      "text/html": [
       "<div>\n",
       "<style scoped>\n",
       "    .dataframe tbody tr th:only-of-type {\n",
       "        vertical-align: middle;\n",
       "    }\n",
       "\n",
       "    .dataframe tbody tr th {\n",
       "        vertical-align: top;\n",
       "    }\n",
       "\n",
       "    .dataframe thead th {\n",
       "        text-align: right;\n",
       "    }\n",
       "</style>\n",
       "<table border=\"1\" class=\"dataframe\">\n",
       "  <thead>\n",
       "    <tr style=\"text-align: right;\">\n",
       "      <th></th>\n",
       "      <th>Unnamed: 0</th>\n",
       "      <th>n_citation</th>\n",
       "      <th>year</th>\n",
       "      <th>keywords</th>\n",
       "    </tr>\n",
       "  </thead>\n",
       "  <tbody>\n",
       "    <tr>\n",
       "      <th>0</th>\n",
       "      <td>1</td>\n",
       "      <td>6.0</td>\n",
       "      <td>2003.0</td>\n",
       "      <td>Biochemistry,DNA,Polymerase chain reaction opt...</td>\n",
       "    </tr>\n",
       "    <tr>\n",
       "      <th>1</th>\n",
       "      <td>2</td>\n",
       "      <td>1.0</td>\n",
       "      <td>2015.0</td>\n",
       "      <td>Peer group,Normality,Special education,Masculi...</td>\n",
       "    </tr>\n",
       "    <tr>\n",
       "      <th>2</th>\n",
       "      <td>3</td>\n",
       "      <td>0.0</td>\n",
       "      <td>2006.0</td>\n",
       "      <td>Preservative,Biology</td>\n",
       "    </tr>\n",
       "    <tr>\n",
       "      <th>3</th>\n",
       "      <td>4</td>\n",
       "      <td>12.0</td>\n",
       "      <td>2016.0</td>\n",
       "      <td>Emergency management,Nursing,Social media,Inju...</td>\n",
       "    </tr>\n",
       "    <tr>\n",
       "      <th>4</th>\n",
       "      <td>5</td>\n",
       "      <td>0.0</td>\n",
       "      <td>2008.0</td>\n",
       "      <td>Financial system,Valuation (finance),Finance,A...</td>\n",
       "    </tr>\n",
       "  </tbody>\n",
       "</table>\n",
       "</div>"
      ],
      "text/plain": [
       "   Unnamed: 0  n_citation    year  \\\n",
       "0           1         6.0  2003.0   \n",
       "1           2         1.0  2015.0   \n",
       "2           3         0.0  2006.0   \n",
       "3           4        12.0  2016.0   \n",
       "4           5         0.0  2008.0   \n",
       "\n",
       "                                            keywords  \n",
       "0  Biochemistry,DNA,Polymerase chain reaction opt...  \n",
       "1  Peer group,Normality,Special education,Masculi...  \n",
       "2                               Preservative,Biology  \n",
       "3  Emergency management,Nursing,Social media,Inju...  \n",
       "4  Financial system,Valuation (finance),Finance,A...  "
      ]
     },
     "execution_count": 15,
     "metadata": {},
     "output_type": "execute_result"
    }
   ],
   "source": [
    "df1.iloc[0:0]\n",
    "df2.iloc[0:0]\n",
    "df3.iloc[0:0]\n",
    "df4.iloc[0:0]\n",
    "df5.iloc[0:0]\n",
    "df_c1.iloc[0:0]\n",
    "df_c2.iloc[0:0]\n",
    "df_c3.iloc[0:0]\n",
    "\n",
    "df_clean.head()"
   ]
  },
  {
   "cell_type": "code",
   "execution_count": 16,
   "metadata": {},
   "outputs": [],
   "source": [
    "df_clean.drop(df_clean.columns[df_clean.columns.str.contains('unnamed',case = False)],axis = 1, inplace = True)\n",
    "df_clean = df_clean.drop(columns=['n_citation'])"
   ]
  },
  {
   "cell_type": "code",
   "execution_count": 17,
   "metadata": {},
   "outputs": [
    {
     "data": {
      "text/html": [
       "<div>\n",
       "<style scoped>\n",
       "    .dataframe tbody tr th:only-of-type {\n",
       "        vertical-align: middle;\n",
       "    }\n",
       "\n",
       "    .dataframe tbody tr th {\n",
       "        vertical-align: top;\n",
       "    }\n",
       "\n",
       "    .dataframe thead th {\n",
       "        text-align: right;\n",
       "    }\n",
       "</style>\n",
       "<table border=\"1\" class=\"dataframe\">\n",
       "  <thead>\n",
       "    <tr style=\"text-align: right;\">\n",
       "      <th></th>\n",
       "      <th>year</th>\n",
       "      <th>keywords</th>\n",
       "    </tr>\n",
       "  </thead>\n",
       "  <tbody>\n",
       "    <tr>\n",
       "      <th>0</th>\n",
       "      <td>2003.0</td>\n",
       "      <td>Biochemistry,DNA,Polymerase chain reaction opt...</td>\n",
       "    </tr>\n",
       "    <tr>\n",
       "      <th>1</th>\n",
       "      <td>2015.0</td>\n",
       "      <td>Peer group,Normality,Special education,Masculi...</td>\n",
       "    </tr>\n",
       "    <tr>\n",
       "      <th>2</th>\n",
       "      <td>2006.0</td>\n",
       "      <td>Preservative,Biology</td>\n",
       "    </tr>\n",
       "    <tr>\n",
       "      <th>3</th>\n",
       "      <td>2016.0</td>\n",
       "      <td>Emergency management,Nursing,Social media,Inju...</td>\n",
       "    </tr>\n",
       "    <tr>\n",
       "      <th>4</th>\n",
       "      <td>2008.0</td>\n",
       "      <td>Financial system,Valuation (finance),Finance,A...</td>\n",
       "    </tr>\n",
       "  </tbody>\n",
       "</table>\n",
       "</div>"
      ],
      "text/plain": [
       "     year                                           keywords\n",
       "0  2003.0  Biochemistry,DNA,Polymerase chain reaction opt...\n",
       "1  2015.0  Peer group,Normality,Special education,Masculi...\n",
       "2  2006.0                               Preservative,Biology\n",
       "3  2016.0  Emergency management,Nursing,Social media,Inju...\n",
       "4  2008.0  Financial system,Valuation (finance),Finance,A..."
      ]
     },
     "execution_count": 17,
     "metadata": {},
     "output_type": "execute_result"
    }
   ],
   "source": [
    "df_clean.head()"
   ]
  },
  {
   "cell_type": "code",
   "execution_count": null,
   "metadata": {},
   "outputs": [],
   "source": [
    "d={}\n",
    "for values in df_clean[\"year\"]:\n",
    "    d[\"{0}\".format(values)] = df_clean.loc[df_clean[\"year\"] == values]"
   ]
  },
  {
   "cell_type": "code",
   "execution_count": null,
   "metadata": {},
   "outputs": [],
   "source": [
    "s = ','\n",
    "s.join(list(d.items())[0][1][\"keywords\"].values.tolist())"
   ]
  },
  {
   "cell_type": "code",
   "execution_count": null,
   "metadata": {},
   "outputs": [],
   "source": [
    "list(d.items())[1][1][\"year\"].values.tolist()[0]"
   ]
  },
  {
   "cell_type": "code",
   "execution_count": null,
   "metadata": {},
   "outputs": [],
   "source": [
    "s = ','\n",
    "keyw = []\n",
    "year = []\n",
    "for i in range(len(d)):\n",
    "    keyw.append(s.join(list(d.items())[i][1][\"keywords\"].values.tolist()))\n",
    "    year.append(list(d.items())[i][1][\"year\"].values.tolist()[0])"
   ]
  },
  {
   "cell_type": "code",
   "execution_count": null,
   "metadata": {},
   "outputs": [],
   "source": [
    "key_words = pd.DataFrame(keyw, columns=['key words'])"
   ]
  },
  {
   "cell_type": "code",
   "execution_count": null,
   "metadata": {},
   "outputs": [],
   "source": [
    "key_words.insert(0,\"year\",year)"
   ]
  },
  {
   "cell_type": "code",
   "execution_count": null,
   "metadata": {},
   "outputs": [],
   "source": [
    "key_words.head()"
   ]
  },
  {
   "cell_type": "code",
   "execution_count": null,
   "metadata": {},
   "outputs": [],
   "source": [
    "key_words_divided = pd.DataFrame(key_words[\"key words\"].str.split(',',0).tolist())\n",
    "key_words_divided.insert(0,\"year\",year)"
   ]
  },
  {
   "cell_type": "code",
   "execution_count": null,
   "metadata": {},
   "outputs": [],
   "source": [
    "key_words_divided.head()"
   ]
  },
  {
   "cell_type": "code",
   "execution_count": null,
   "metadata": {},
   "outputs": [],
   "source": [
    "common_v = []\n",
    "common2_v = []\n",
    "for i in range(len(d)):\n",
    "    common_v.append(key_words_divided.iloc[i].mode()[0])\n",
    "    if len(key_words_divided.iloc[i].value_counts()) >= 2:\n",
    "        common2_v.append(key_words_divided.iloc[i].value_counts()[:2].index.tolist()[1])\n",
    "    else:\n",
    "        common2_v.append(\"\")"
   ]
  },
  {
   "cell_type": "code",
   "execution_count": null,
   "metadata": {},
   "outputs": [],
   "source": [
    "common_v"
   ]
  },
  {
   "cell_type": "code",
   "execution_count": null,
   "metadata": {
    "scrolled": true
   },
   "outputs": [],
   "source": [
    "key_words_divided.iloc[1].mode()"
   ]
  },
  {
   "cell_type": "code",
   "execution_count": null,
   "metadata": {},
   "outputs": [],
   "source": [
    "key_words_divided.iloc[1].value_counts()[:2].index.tolist()[1]"
   ]
  },
  {
   "cell_type": "code",
   "execution_count": null,
   "metadata": {},
   "outputs": [],
   "source": [
    "most_common_key_word = pd.DataFrame(common_v, columns=[\"most common key\"])\n",
    "most_common_key_word.insert(1,\"second most popular key\",common2_v)\n",
    "most_common_key_word.insert(0,\"year\",year)\n",
    "most_common_key_word.sort_values(by=['year'])"
   ]
  },
  {
   "cell_type": "code",
   "execution_count": null,
   "metadata": {},
   "outputs": [],
   "source": [
    "file= open(\"info.txt\",\"w+\")\n",
    "\n",
    "file.write(\"to już\")\n",
    "\n",
    "file.close() "
   ]
  },
  {
   "cell_type": "code",
   "execution_count": null,
   "metadata": {},
   "outputs": [],
   "source": [
    "df_clean.to_csv(r'/home/labnauk/data_analysis/full_clean_df.csv')\n",
    "key_words_divided.to_csv(r'/home/labnauk/data_analysis/key_words_divided.csv')"
   ]
  }
 ],
 "metadata": {
  "kernelspec": {
   "display_name": "Python 3",
   "language": "python",
   "name": "python3"
  },
  "language_info": {
   "codemirror_mode": {
    "name": "ipython",
    "version": 3
   },
   "file_extension": ".py",
   "mimetype": "text/x-python",
   "name": "python",
   "nbconvert_exporter": "python",
   "pygments_lexer": "ipython3",
   "version": "3.5.3"
  }
 },
 "nbformat": 4,
 "nbformat_minor": 2
}
